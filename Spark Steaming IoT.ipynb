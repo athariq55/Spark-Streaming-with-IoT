{
 "cells": [
  {
   "cell_type": "markdown",
   "id": "92b50520",
   "metadata": {},
   "source": [
    "1 Sumber Data (CreateStream)"
   ]
  },
  {
   "cell_type": "code",
   "execution_count": null,
   "id": "364bdd1c",
   "metadata": {},
   "outputs": [],
   "source": [
    "import pyspark\n",
    "from pyspark import SparkConf, SparkContext\n",
    "from pyspark.streaming import StreamingContext\n",
    "\n",
    "conf = SparkConf().setMaster(\"spark://master:7077\").setAppName(\"Hasil\")\n",
    "sc = SparkContext(conf=conf)\n",
    "ssc = StreamingContext(sc, 1)\n",
    "ssc.checkpoint(\"checkpoint\")\n",
    "\n",
    "from pyspark.storagelevel import StorageLevel\n",
    "from mqtt import MQTTUtils\n",
    "import time\n",
    "\n",
    "brokerUrl = \"tcp://192.168.1.4:1883\"\n",
    "topic1 = \"spark-IoT00\"\n",
    "username = \"atha\"\n",
    "password = \"12345\"\n",
    "\n",
    "mqttStream = MQTTUtils.createStream(ssc, brokerUrl, topic1, username, password)\n",
    "\n",
    "def printHistogram(time, rdd): \n",
    "    z = str(time)\n",
    "    p = rdd.map(lambda x: (z, x)).collect()\n",
    "    print(p)\n",
    "    \n",
    "mqttStream.foreachRDD(printHistogram)"
   ]
  },
  {
   "cell_type": "markdown",
   "id": "3a8c2192",
   "metadata": {},
   "source": [
    "2 Sumber Data (CreateStream)"
   ]
  },
  {
   "cell_type": "code",
   "execution_count": null,
   "id": "35de1de2",
   "metadata": {},
   "outputs": [],
   "source": [
    "import pyspark\n",
    "from pyspark import SparkConf, SparkContext\n",
    "from pyspark.streaming import StreamingContext\n",
    "\n",
    "conf = SparkConf().setMaster(\"spark://master:7077\").setAppName(\"Hasil\")\n",
    "sc = SparkContext(conf=conf)\n",
    "ssc = StreamingContext(sc, 1)\n",
    "ssc.checkpoint(\"checkpoint\")\n",
    "\n",
    "from pyspark.storagelevel import StorageLevel\n",
    "from mqtt import MQTTUtils\n",
    "import time\n",
    "\n",
    "brokerUrl = \"tcp://192.168.1.4:1883\"\n",
    "topic1 = \"spark-IoT00\"\n",
    "topic2 = \"spark-IoT01\"\n",
    "username = \"atha\"\n",
    "password = \"12345\"\n",
    "\n",
    "mqttStream = MQTTUtils.createStream(ssc, brokerUrl, topic1, username, password)\n",
    "mqttStream1 = MQTTUtils.createStream(ssc, brokerUrl, topic2, username, password)\n",
    "\n",
    "data = mqttStream.union(mqttStream1)\n",
    "\n",
    "def printHistogram(time, rdd): \n",
    "    z = str(time)\n",
    "    p = rdd.map(lambda x: (z, x))\n",
    "    d = p.groupByKey().map(lambda a: (a[0], tuple(a[1]))).collect()\n",
    "    print(d)\n",
    "    \n",
    "data.foreachRDD(printHistogram)\n",
    "\n",
    "ssc.start()\n",
    "ssc.awaitTermination()"
   ]
  },
  {
   "cell_type": "markdown",
   "id": "2342bc2a",
   "metadata": {},
   "source": [
    "2 Sumber Data (CreatePairedStream)"
   ]
  },
  {
   "cell_type": "code",
   "execution_count": null,
   "id": "fc3171a1",
   "metadata": {},
   "outputs": [],
   "source": [
    "import pyspark\n",
    "from pyspark import SparkConf, SparkContext\n",
    "from pyspark.streaming import StreamingContext\n",
    "\n",
    "conf = SparkConf().setMaster(\"spark://master:7077\").setAppName(\"Hasil\")\n",
    "sc = SparkContext(conf=conf)\n",
    "ssc = StreamingContext(sc, 1)\n",
    "ssc.checkpoint(\"checkpoint\")\n",
    "\n",
    "from pyspark.storagelevel import StorageLevel\n",
    "from mqtt import MQTTUtils\n",
    "import time\n",
    "\n",
    "brokerUrl = \"tcp://192.168.1.4:1883\"\n",
    "topic1 = \"spark-IoT00\"\n",
    "topic2 = \"spark-IoT01\"\n",
    "username = \"atha\"\n",
    "password = \"12345\"\n",
    "\n",
    "mqttStream2 = MQTTUtils.createPairedStream(ssc, brokerUrl, (topic1, topic2))\n",
    "\n",
    "def printHistogram(time, rdd): \n",
    "    z = str(time)\n",
    "    p = rdd.map(lambda x: (z, x[1]))\n",
    "    d = p.groupByKey().map(lambda a: (a[0], tuple(a[1]))).collect()\n",
    "    print(d)\n",
    "    \n",
    "mqttStream2.foreachRDD(printHistogram)\n",
    "\n",
    "ssc.start()\n",
    "ssc.awaitTermination()"
   ]
  },
  {
   "cell_type": "markdown",
   "id": "4dfee5e3",
   "metadata": {},
   "source": [
    "3 Sumber Data (CreateStream)"
   ]
  },
  {
   "cell_type": "code",
   "execution_count": null,
   "id": "bf9a7ee8",
   "metadata": {},
   "outputs": [],
   "source": [
    "import pyspark\n",
    "from pyspark import SparkConf, SparkContext\n",
    "from pyspark.streaming import StreamingContext\n",
    "\n",
    "conf = SparkConf().setMaster(\"spark://master:7077\").setAppName(\"Hasil\")\n",
    "sc = SparkContext(conf=conf)\n",
    "ssc = StreamingContext(sc, 1)\n",
    "ssc.checkpoint(\"checkpoint\")\n",
    "\n",
    "from pyspark.storagelevel import StorageLevel\n",
    "from mqtt import MQTTUtils\n",
    "import time\n",
    "\n",
    "brokerUrl = \"tcp://192.168.1.4:1883\"\n",
    "topic1 = \"spark-IoT00\"\n",
    "topic2 = \"spark-IoT01\"\n",
    "topic3 = \"spark-IoT02\"\n",
    "username = \"atha\"\n",
    "password = \"12345\"\n",
    "\n",
    "mqttStream = MQTTUtils.createStream(ssc, brokerUrl, topic1, username, password)\n",
    "mqttStream1 = MQTTUtils.createStream(ssc, brokerUrl, topic2, username, password)\n",
    "mqttStream2 = MQTTUtils.createStream(ssc, brokerUrl, topic3, username, password)\n",
    "\n",
    "data2 = mqttStream1.union(mqttStream2)\n",
    "data1 = mqttStream.union(data2)\n",
    "\n",
    "def printHistogram(time, rdd): \n",
    "    z = str(time)\n",
    "    p = rdd.map(lambda x: (z, x))\n",
    "    d = p.groupByKey().map(lambda a: (a[0], tuple(a[1]))).collect()\n",
    "    print(d)\n",
    "    \n",
    "data1.foreachRDD(printHistogram)\n",
    "\n",
    "ssc.start()\n",
    "ssc.awaitTermination()"
   ]
  },
  {
   "cell_type": "markdown",
   "id": "9945f76c",
   "metadata": {},
   "source": [
    "3 Sumber Data (CreatePairedStream)"
   ]
  },
  {
   "cell_type": "code",
   "execution_count": null,
   "id": "d60fc028",
   "metadata": {},
   "outputs": [],
   "source": [
    "import pyspark\n",
    "from pyspark import SparkConf, SparkContext\n",
    "from pyspark.streaming import StreamingContext\n",
    "\n",
    "conf = SparkConf().setMaster(\"spark://master:7077\").setAppName(\"Hasil\")\n",
    "sc = SparkContext(conf=conf)\n",
    "ssc = StreamingContext(sc, 1)\n",
    "ssc.checkpoint(\"checkpoint\")\n",
    "\n",
    "from pyspark.storagelevel import StorageLevel\n",
    "from mqtt import MQTTUtils\n",
    "import time\n",
    "\n",
    "brokerUrl = \"tcp://192.168.1.4:1883\"\n",
    "topic1 = \"spark-IoT00\"\n",
    "topic2 = \"spark-IoT01\"\n",
    "username = \"atha\"\n",
    "password = \"12345\"\n",
    "\n",
    "mqttStream2 = MQTTUtils.createPairedStream(ssc, brokerUrl, (topic1, topic2, topic3))\n",
    "\n",
    "def printHistogram(time, rdd): \n",
    "    z = str(time)\n",
    "    p = rdd.map(lambda x: (z, x[1]))\n",
    "    d = p.groupByKey().map(lambda a: (a[0], tuple(a[1]))).collect()\n",
    "    print(d)\n",
    "    \n",
    "mqttStream2.foreachRDD(printHistogram)\n",
    "\n",
    "ssc.start()\n",
    "ssc.awaitTermination()\n"
   ]
  }
 ],
 "metadata": {
  "kernelspec": {
   "display_name": "Python 3 (ipykernel)",
   "language": "python",
   "name": "python3"
  },
  "language_info": {
   "codemirror_mode": {
    "name": "ipython",
    "version": 3
   },
   "file_extension": ".py",
   "mimetype": "text/x-python",
   "name": "python",
   "nbconvert_exporter": "python",
   "pygments_lexer": "ipython3",
   "version": "3.10.4"
  }
 },
 "nbformat": 4,
 "nbformat_minor": 5
}
